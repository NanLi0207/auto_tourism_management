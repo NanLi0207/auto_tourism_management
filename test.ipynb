{
 "cells": [
  {
   "cell_type": "code",
   "execution_count": null,
   "id": "aa6e1216",
   "metadata": {},
   "outputs": [],
   "source": [
    "import re\n",
    "\n",
    "\n",
    "\n",
    "\n",
    "LINE_PATTERN = re.compile(\n",
    "    rf\"^(?P<last>.*?)\\s+Notes{COLON}\\s*Phone{COLON}\\s*(?P<phone>\\S+)\\s+Hotel{COLON}\\s*(?P<hotel>.*?)(?:\\s+Boat{COLON}\\s*(?P<boat>\\S+))?(?:\\s+Email{COLON}\\s*(?P<email>\\S+))?\\s*$\"\n",
    ")\n"
   ]
  },
  {
   "cell_type": "code",
   "execution_count": null,
   "id": "0907fe0c",
   "metadata": {},
   "outputs": [],
   "source": []
  },
  {
   "cell_type": "code",
   "execution_count": null,
   "id": "35922d00",
   "metadata": {},
   "outputs": [],
   "source": []
  },
  {
   "cell_type": "code",
   "execution_count": null,
   "id": "d8f6ba8a",
   "metadata": {},
   "outputs": [],
   "source": []
  },
  {
   "cell_type": "code",
   "execution_count": null,
   "id": "0e663cdc",
   "metadata": {},
   "outputs": [],
   "source": []
  },
  {
   "cell_type": "code",
   "execution_count": null,
   "id": "c1767d57",
   "metadata": {},
   "outputs": [],
   "source": []
  },
  {
   "cell_type": "code",
   "execution_count": null,
   "id": "fc065d03",
   "metadata": {},
   "outputs": [],
   "source": []
  },
  {
   "cell_type": "code",
   "execution_count": 1,
   "id": "c0651a37",
   "metadata": {},
   "outputs": [
    {
     "name": "stderr",
     "output_type": "stream",
     "text": [
      "c:\\Users\\Nan Li\\Documents\\Coding\\auto_tourist_management\\.venv\\Lib\\site-packages\\openpyxl\\styles\\stylesheet.py:237: UserWarning: Workbook contains no default style, apply openpyxl's default\n",
      "  warn(\"Workbook contains no default style, apply openpyxl's default\")\n"
     ]
    }
   ],
   "source": [
    "from datetime import datetime\n",
    "import pandas as pd\n",
    "usecols = [\n",
    "            \"Booked Resource Name\",\n",
    "            \"Date of Use\",\n",
    "            \"Contact Name\",\n",
    "            \"Contact Mobile\",\n",
    "            \"Tickets Booked\",\n",
    "            \"Additional Information\",\n",
    "            \"Booking Status\",\n",
    "            \"Contact Email\",\n",
    "        ]\n",
    "tourist_orders=pd.read_excel(r\"C:\\Users\\Nan Li\\Documents\\Coding\\auto_tourist_management\\downloads\\CT_2025-10-25_2025-10-25.xlsx\",\n",
    "                 sheet_name=\"Things to Do\",\n",
    "                skiprows=5,\n",
    "                usecols=usecols,\n",
    "                dtype={\"Contact Mobile\": \"string\"},\n",
    "                parse_dates=[\"Date of Use\"],\n",
    "                engine=\"openpyxl\",\n",
    "                 )"
   ]
  },
  {
   "cell_type": "code",
   "execution_count": 2,
   "id": "8b517e79",
   "metadata": {},
   "outputs": [],
   "source": [
    "tourist_orders.columns = (\n",
    "            tourist_orders.columns.astype(str)\n",
    "            .str.strip()\n",
    "            .str.replace(r\"\\s+\", \"_\", regex=True)\n",
    "            .str.replace(r\"[^0-9A-Za-z_]\", \"\", regex=True)\n",
    "        )\n",
    "before = len(tourist_orders)\n",
    "tourist_orders = tourist_orders[tourist_orders[\"Booking_Status\"] != \"Cancelled\"]\n",
    "after = len(tourist_orders)\n",
    "\n",
    "# ✅ 这里直接重置索引，方便后续 itertuples\n",
    "tourist_orders = tourist_orders.reset_index(drop=True)"
   ]
  },
  {
   "cell_type": "code",
   "execution_count": 9,
   "id": "23cae89f",
   "metadata": {},
   "outputs": [
    {
     "name": "stdout",
     "output_type": "stream",
     "text": [
      "a251025\n"
     ]
    }
   ],
   "source": [
    "\n",
    "for order in tourist_orders.itertuples(index=True,name=\"Order\"):\n",
    "    activity_date = order.Date_of_Use.date()\n",
    "    print(activity_date.strftime(\"a%y%m%d\"))"
   ]
  },
  {
   "cell_type": "code",
   "execution_count": null,
   "id": "de135e52",
   "metadata": {},
   "outputs": [],
   "source": []
  },
  {
   "cell_type": "code",
   "execution_count": null,
   "id": "aea30877",
   "metadata": {},
   "outputs": [],
   "source": []
  },
  {
   "cell_type": "code",
   "execution_count": null,
   "id": "45c42a22",
   "metadata": {},
   "outputs": [],
   "source": []
  },
  {
   "cell_type": "code",
   "execution_count": null,
   "id": "afc89873",
   "metadata": {},
   "outputs": [],
   "source": []
  },
  {
   "cell_type": "code",
   "execution_count": null,
   "id": "55dabccf",
   "metadata": {},
   "outputs": [],
   "source": []
  },
  {
   "cell_type": "code",
   "execution_count": null,
   "id": "c9c70799",
   "metadata": {},
   "outputs": [],
   "source": []
  },
  {
   "cell_type": "code",
   "execution_count": null,
   "id": "1cb76c75",
   "metadata": {},
   "outputs": [],
   "source": []
  },
  {
   "cell_type": "code",
   "execution_count": null,
   "id": "f14e91df",
   "metadata": {},
   "outputs": [],
   "source": []
  },
  {
   "cell_type": "code",
   "execution_count": null,
   "id": "6036383b",
   "metadata": {},
   "outputs": [],
   "source": []
  },
  {
   "cell_type": "code",
   "execution_count": null,
   "id": "94cde856",
   "metadata": {},
   "outputs": [],
   "source": []
  },
  {
   "cell_type": "code",
   "execution_count": 3,
   "id": "52ef2e4c",
   "metadata": {},
   "outputs": [],
   "source": [
    "from selenium import webdriver\n",
    "\n",
    "from modules.utils.browser_connector import (\n",
    "    close_all_chrome,\n",
    "    start_chrome_with_debug,\n",
    "    connect_to_existing_browser,\n",
    ")\n",
    "import os"
   ]
  },
  {
   "cell_type": "code",
   "execution_count": 1,
   "id": "0013e7a7",
   "metadata": {},
   "outputs": [],
   "source": [
    "import time\n",
    "import shutil\n",
    "import logging\n",
    "from pathlib import Path\n",
    "from typing import Any\n",
    "\n",
    "from selenium.webdriver.common.by import By\n",
    "from selenium.webdriver.support.ui import WebDriverWait\n",
    "from selenium.webdriver.support import expected_conditions as EC\n",
    "from selenium.common.exceptions import TimeoutException"
   ]
  },
  {
   "cell_type": "code",
   "execution_count": 4,
   "id": "80b157cc",
   "metadata": {},
   "outputs": [
    {
     "name": "stdout",
     "output_type": "stream",
     "text": [
      "✅ 已接管浏览器，下载目录：c:\\Users\\Nan Li\\Documents\\Coding\\auto_tourist_management\\downloads\n"
     ]
    }
   ],
   "source": [
    "driver = connect_to_existing_browser()"
   ]
  },
  {
   "cell_type": "code",
   "execution_count": 5,
   "id": "1336c0bf",
   "metadata": {},
   "outputs": [],
   "source": [
    "from modules.crawlers.crawler_utils import (\n",
    "    safe_click,\n",
    "    extract_text_safe,\n",
    "    match_group_name,\n",
    ")"
   ]
  },
  {
   "cell_type": "code",
   "execution_count": 6,
   "id": "9625e51f",
   "metadata": {},
   "outputs": [],
   "source": [
    "cards = driver.find_elements(By.CSS_SELECTOR, \"div.booking-info\")"
   ]
  },
  {
   "cell_type": "code",
   "execution_count": 7,
   "id": "f2b16c56",
   "metadata": {},
   "outputs": [],
   "source": [
    "orders = []"
   ]
  },
  {
   "cell_type": "code",
   "execution_count": 14,
   "id": "c30ad877",
   "metadata": {},
   "outputs": [],
   "source": [
    "card=cards[5]"
   ]
  },
  {
   "cell_type": "code",
   "execution_count": 15,
   "id": "21a51b3a",
   "metadata": {},
   "outputs": [],
   "source": [
    "text = extract_text_safe(\n",
    "            card,\n",
    "            \".//li[p[@class='label' and normalize-space()='No. of participants:']]//div[contains(@class,'valuesColumns')]\",\n",
    "        )"
   ]
  },
  {
   "cell_type": "code",
   "execution_count": 16,
   "id": "12e8cc79",
   "metadata": {},
   "outputs": [
    {
     "data": {
      "text/plain": [
       "'Unknown'"
      ]
     },
     "execution_count": 16,
     "metadata": {},
     "output_type": "execute_result"
    }
   ],
   "source": [
    "text"
   ]
  },
  {
   "cell_type": "code",
   "execution_count": 17,
   "id": "a4165104",
   "metadata": {},
   "outputs": [],
   "source": [
    "text = extract_text_safe(\n",
    "            card,\n",
    "            \".//li[p[@class='label' and normalize-space()='Unit:']]//div[contains(@class,'valuesColumns')]\",\n",
    "        )"
   ]
  },
  {
   "cell_type": "code",
   "execution_count": 18,
   "id": "966c9968",
   "metadata": {},
   "outputs": [
    {
     "data": {
      "text/plain": [
       "'Person x 3'"
      ]
     },
     "execution_count": 18,
     "metadata": {},
     "output_type": "execute_result"
    }
   ],
   "source": [
    "text"
   ]
  },
  {
   "cell_type": "code",
   "execution_count": 22,
   "id": "8736c540",
   "metadata": {},
   "outputs": [],
   "source": [
    "import re\n",
    "text = re.search(r\"[Xx×]\\s*(\\d+)\", text or \"\")"
   ]
  },
  {
   "cell_type": "code",
   "execution_count": 25,
   "id": "5f1c0168",
   "metadata": {},
   "outputs": [
    {
     "name": "stdout",
     "output_type": "stream",
     "text": [
      "<re.Match object; span=(7, 10), match='x 3'>\n"
     ]
    }
   ],
   "source": [
    "print(text)"
   ]
  },
  {
   "cell_type": "code",
   "execution_count": 23,
   "id": "822ae43f",
   "metadata": {},
   "outputs": [
    {
     "data": {
      "text/plain": [
       "'3'"
      ]
     },
     "execution_count": 23,
     "metadata": {},
     "output_type": "execute_result"
    }
   ],
   "source": [
    "text.group(1)"
   ]
  },
  {
   "cell_type": "code",
   "execution_count": null,
   "id": "977f153a",
   "metadata": {},
   "outputs": [],
   "source": [
    "driver.execute_script(\"\"\"\n",
    "    const suffix = document.querySelector('.condition-range-picker .ant-picker-suffix');\n",
    "    const picker = document.querySelector('.condition-range-picker');\n",
    "    if (suffix) suffix.click(); else if (picker) picker.click();\n",
    "\"\"\")\n",
    "time.sleep(0.3)\n",
    "\n",
    "js = \"\"\"\n",
    "const picker = document.querySelector('.condition-range-picker');\n",
    "const inputs = picker.querySelectorAll('input');\n",
    "if (inputs.length < 2) return { ok: false };\n",
    "\n",
    "function setVal(el, val){\n",
    "    if (el.hasAttribute('readonly')) el.removeAttribute('readonly');\n",
    "    const setter = Object.getOwnPropertyDescriptor(HTMLInputElement.prototype, 'value').set;\n",
    "    setter.call(el, val);\n",
    "    el.dispatchEvent(new Event('input', { bubbles: true }));\n",
    "}\n",
    "\n",
    "setVal(inputs[0], arguments[0]);\n",
    "setVal(inputs[1], arguments[1]);\n",
    "document.body.click();\n",
    "picker.dispatchEvent(new Event('change', { bubbles: true }));\n",
    "\n",
    "return { start: inputs[0].value, end: inputs[1].value, ok: true };\n",
    "\"\"\""
   ]
  },
  {
   "cell_type": "code",
   "execution_count": null,
   "id": "1e0e51eb",
   "metadata": {},
   "outputs": [],
   "source": [
    "driver.execute_script(js, \"2025-10-23\", \"2025-10-23\")"
   ]
  },
  {
   "cell_type": "code",
   "execution_count": null,
   "id": "b95bcf9c",
   "metadata": {},
   "outputs": [],
   "source": [
    "driver.execute_script(\n",
    "            \"const b=document.querySelector('button[data-name=\\\"search\\\"]');if(b)b.click();\"\n",
    "        )"
   ]
  },
  {
   "cell_type": "code",
   "execution_count": null,
   "id": "9cfeef70",
   "metadata": {},
   "outputs": [],
   "source": [
    "export_btn_selector = (\n",
    "            \"div[role='tabpanel'][aria-hidden='false'] button[data-name='export']\"\n",
    "        )"
   ]
  },
  {
   "cell_type": "code",
   "execution_count": null,
   "id": "1a0cb655",
   "metadata": {},
   "outputs": [],
   "source": [
    "btn = driver.find_element(By.CSS_SELECTOR, export_btn_selector)\n"
   ]
  },
  {
   "cell_type": "code",
   "execution_count": null,
   "id": "5eaa231d",
   "metadata": {},
   "outputs": [],
   "source": [
    "btn.is_enabled()"
   ]
  },
  {
   "cell_type": "code",
   "execution_count": null,
   "id": "3e20dd3f",
   "metadata": {},
   "outputs": [],
   "source": [
    "driver.execute_script(\"arguments[0].scrollIntoView(true);\", btn)"
   ]
  },
  {
   "cell_type": "code",
   "execution_count": null,
   "id": "5d6b3d41",
   "metadata": {},
   "outputs": [],
   "source": [
    "driver.execute_script(\"arguments[0].click();\", btn)"
   ]
  },
  {
   "cell_type": "code",
   "execution_count": null,
   "id": "49e7320c",
   "metadata": {},
   "outputs": [],
   "source": []
  },
  {
   "cell_type": "code",
   "execution_count": null,
   "id": "33f65887",
   "metadata": {},
   "outputs": [],
   "source": []
  },
  {
   "cell_type": "code",
   "execution_count": null,
   "id": "f16dd288",
   "metadata": {},
   "outputs": [],
   "source": []
  },
  {
   "cell_type": "code",
   "execution_count": null,
   "id": "108ad1d7",
   "metadata": {},
   "outputs": [],
   "source": []
  },
  {
   "cell_type": "code",
   "execution_count": null,
   "id": "07b5174e",
   "metadata": {},
   "outputs": [],
   "source": []
  },
  {
   "cell_type": "code",
   "execution_count": null,
   "id": "1e3fccfd",
   "metadata": {},
   "outputs": [],
   "source": []
  },
  {
   "cell_type": "code",
   "execution_count": null,
   "id": "7e41a633",
   "metadata": {},
   "outputs": [],
   "source": [
    "\n",
    "# 1️⃣ 清理旧浏览器\n",
    "close_all_chrome()\n",
    "\n",
    "# 2️⃣ 启动并接管浏览器\n",
    "start_chrome_with_debug()\n",
    "driver = connect_to_existing_browser()\n",
    "\n",
    "ct = CTDownloader(\n",
    "    driver=driver,\n",
    "    start_date=\"2025-10-23\",\n",
    "    end_date=\"2025-10-23\",\n",
    "    download_dir=os.path.dirname(__file__)\n",
    ")\n"
   ]
  },
  {
   "cell_type": "code",
   "execution_count": null,
   "id": "fcefa8f1",
   "metadata": {},
   "outputs": [],
   "source": [
    "\n",
    "ct.open_page()\n",
    "ct.set_date_range()\n",
    "file_path = ct.export_bookings(filename=\"ctrip_orders_20251023.xlsx\")"
   ]
  },
  {
   "cell_type": "code",
   "execution_count": null,
   "id": "e7317bdd",
   "metadata": {},
   "outputs": [],
   "source": [
    "import re\n",
    "import time\n",
    "import json\n",
    "import os\n",
    "from datetime import datetime\n",
    "from selenium.webdriver.common.by import By\n",
    "from selenium.webdriver.common.keys import Keys\n",
    "from selenium.webdriver.support.ui import WebDriverWait\n",
    "from selenium.webdriver.support import expected_conditions as EC\n",
    "from selenium.common.exceptions import (\n",
    "    StaleElementReferenceException,\n",
    "    ElementClickInterceptedException,\n",
    "    NoSuchElementException,\n",
    "    TimeoutException,\n",
    ")\n",
    "from modules.crawlers.base_crawler import BaseCrawler\n",
    "from modules.crawlers.crawler_utils import (\n",
    "    safe_click,\n",
    "    extract_text_safe,\n",
    "    clean_traveler_name,\n",
    "    get_group_keywords_map,\n",
    ")\n",
    "from modules.output_utils import extract_country_code_from_phone, format_phone_number"
   ]
  },
  {
   "cell_type": "code",
   "execution_count": null,
   "id": "142447aa",
   "metadata": {},
   "outputs": [],
   "source": [
    "from modules.browser_connector import (\n",
    "    close_all_chrome,\n",
    "    start_chrome_with_debug,\n",
    "    connect_to_existing_browser,\n",
    ")\n",
    "from modules.crawlers.crawler_GYG import GYGCrawler\n",
    "from modules.crawlers.crawler_Viator import ViatorCrawler\n",
    "from modules.output_utils import (\n",
    "    format_booking_line,\n",
    "    save_orders_to_txt,\n",
    ")\n",
    "\n",
    "start_date = \"2025-10-24\"\n",
    "end_date = \"2025-10-24\"\n",
    "if start_date == end_date:\n",
    "    output_file = f\"a{start_date.replace('-', '')[2:]}.txt\"\n",
    "else:\n",
    "    output_file = (\n",
    "        f\"a{start_date.replace('-', '')[2:]}_a{end_date.replace('-', '')[2:]}.txt\"\n",
    "    )"
   ]
  },
  {
   "cell_type": "code",
   "execution_count": null,
   "id": "37dee890",
   "metadata": {},
   "outputs": [],
   "source": [
    "start_chrome_with_debug()\n",
    "driver = connect_to_existing_browser()"
   ]
  },
  {
   "cell_type": "code",
   "execution_count": null,
   "id": "a1281592",
   "metadata": {},
   "outputs": [],
   "source": [
    "wait = WebDriverWait(driver, 10)\n",
    "outer_start_input = wait.until(\n",
    "    EC.element_to_be_clickable(\n",
    "        (\n",
    "            By.XPATH,\n",
    "            \"//label[contains(.,'Participation date')]/following::input[@placeholder='Start date']\",\n",
    "        )\n",
    "    )\n",
    ")\n",
    "outer_start_input.click()\n",
    "time.sleep(0.3)\n",
    "\n",
    "popup_start_input = wait.until(\n",
    "    EC.presence_of_element_located(\n",
    "        (\n",
    "            By.XPATH,\n",
    "            \"//input[contains(@class,'ant-calendar-input') and @placeholder='Start date']\",\n",
    "        )\n",
    "    )\n",
    ")\n",
    "popup_end_input = wait.until(\n",
    "    EC.presence_of_element_located(\n",
    "        (\n",
    "            By.XPATH,\n",
    "            \"//input[contains(@class,'ant-calendar-input') and @placeholder='End date']\",\n",
    "        )\n",
    "    )\n",
    ")\n",
    "\n",
    "popup_start_input.send_keys(Keys.CONTROL, \"a\")\n",
    "popup_start_input.send_keys(start_date)\n",
    "popup_end_input.send_keys(Keys.CONTROL, \"a\")\n",
    "popup_end_input.send_keys(end_date)\n",
    "time.sleep(0.3)\n",
    "\n",
    "search_button = wait.until(\n",
    "    EC.element_to_be_clickable((By.XPATH, \"//button[span[text()='Search']]\"))\n",
    ")\n",
    "driver.execute_script(\"arguments[0].click();\", search_button)"
   ]
  },
  {
   "cell_type": "code",
   "execution_count": null,
   "id": "d08defa5",
   "metadata": {},
   "outputs": [],
   "source": [
    "wait = WebDriverWait(driver, 10)\n",
    "xpath = \"//div[@role='tab' and normalize-space(text())='Confirmed']\"\n",
    "confirmed_tab = wait.until(\n",
    "    EC.element_to_be_clickable((By.XPATH, xpath))\n",
    ")\n",
    "safe_click(driver,confirmed_tab)\n"
   ]
  },
  {
   "cell_type": "code",
   "execution_count": null,
   "id": "e1649719",
   "metadata": {},
   "outputs": [],
   "source": [
    "xpath = \"(//span[contains(@class,'i-icon-icon-view-off')])\"\n",
    "eye_icon = WebDriverWait(driver, 10).until(\n",
    "    EC.presence_of_element_located((By.XPATH, xpath))\n",
    ")\n",
    "# 检查是否真的可见\n",
    "WebDriverWait(driver, 10).until(\n",
    "    EC.element_to_be_clickable((By.XPATH, xpath))\n",
    ")\n",
    "safe_click(driver, eye_icon)"
   ]
  },
  {
   "cell_type": "code",
   "execution_count": null,
   "metadata": {},
   "outputs": [],
   "source": [
    "cards = driver.find_elements(By.CSS_SELECTOR, \"div.booking-info\")\n",
    "orders = []\n",
    "print(len(cards))"
   ]
  },
  {
   "cell_type": "code",
   "execution_count": null,
   "id": "1973a0db",
   "metadata": {},
   "outputs": [],
   "source": [
    "card=cards[0]"
   ]
  },
  {
   "cell_type": "code",
   "execution_count": null,
   "id": "bc79da1d",
   "metadata": {},
   "outputs": [],
   "source": [
    "print(card)"
   ]
  },
  {
   "cell_type": "code",
   "execution_count": null,
   "id": "29177948",
   "metadata": {},
   "outputs": [],
   "source": [
    "extract_text_safe(\n",
    "    card,\n",
    "    f\".//li[p[@class='label' and normalize-space()='Full name:']]//div[contains(@class,'valuesColumns')]\"\n",
    ")"
   ]
  },
  {
   "cell_type": "code",
   "execution_count": null,
   "metadata": {},
   "outputs": [],
   "source": []
  },
  {
   "cell_type": "code",
   "execution_count": null,
   "metadata": {},
   "outputs": [],
   "source": []
  },
  {
   "cell_type": "code",
   "execution_count": null,
   "metadata": {},
   "outputs": [],
   "source": []
  },
  {
   "cell_type": "code",
   "execution_count": null,
   "metadata": {},
   "outputs": [],
   "source": []
  },
  {
   "cell_type": "code",
   "execution_count": null,
   "metadata": {},
   "outputs": [],
   "source": []
  },
  {
   "cell_type": "code",
   "execution_count": null,
   "id": "53ee5b16",
   "metadata": {},
   "outputs": [],
   "source": []
  },
  {
   "cell_type": "code",
   "execution_count": null,
   "metadata": {},
   "outputs": [],
   "source": []
  },
  {
   "cell_type": "code",
   "execution_count": null,
   "metadata": {},
   "outputs": [],
   "source": []
  },
  {
   "cell_type": "code",
   "execution_count": null,
   "id": "4cf33e13",
   "metadata": {},
   "outputs": [],
   "source": [
    "from modules.browser_connector import (\n",
    "    close_all_chrome,\n",
    "    start_chrome_with_debug,\n",
    "    connect_to_existing_browser,\n",
    ")\n",
    "from modules.crawlers.crawler_GYG import GYGCrawler\n",
    "from modules.crawlers.crawler_Viator import ViatorCrawler\n",
    "from modules.output_utils import (\n",
    "    format_booking_line,\n",
    "    save_orders_to_txt,\n",
    ")\n",
    "\n",
    "start_date = \"2025-10-23\"\n",
    "end_date = \"2025-10-24\"\n",
    "if start_date == end_date:\n",
    "    output_file = f\"a{start_date.replace('-', '')[2:]}.txt\"\n",
    "else:\n",
    "    output_file = (\n",
    "        f\"a{start_date.replace('-', '')[2:]}_a{end_date.replace('-', '')[2:]}.txt\"\n",
    "    )\n",
    "    \n",
    "# # 1️⃣ 清理旧浏览器\n",
    "# close_all_chrome()\n",
    "\n",
    "# # 2️⃣ 启动并接管浏览器\n",
    "# start_chrome_with_debug()\n",
    "driver = connect_to_existing_browser()\n",
    "# crawler = GYGCrawler(driver)\n",
    "crawler = ViatorCrawler(driver)\n",
    "crawler.open_page(start_date, end_date)"
   ]
  },
  {
   "cell_type": "code",
   "execution_count": null,
   "id": "e68ef26d",
   "metadata": {},
   "outputs": [],
   "source": [
    "driver = connect_to_existing_browser()"
   ]
  },
  {
   "cell_type": "code",
   "execution_count": null,
   "id": "d0180f1a",
   "metadata": {},
   "outputs": [],
   "source": [
    "from modules.crawlers.crawler_utils import (\n",
    "    safe_click,\n",
    "    extract_text_safe,\n",
    "    clean_traveler_name,\n",
    "    get_group_keywords_map,\n",
    ")"
   ]
  },
  {
   "cell_type": "code",
   "execution_count": null,
   "id": "80a35386",
   "metadata": {},
   "outputs": [],
   "source": [
    "# modules/crawler_Viator.py\n",
    "import re\n",
    "import time\n",
    "from datetime import datetime\n",
    "from selenium.webdriver.common.by import By\n",
    "from modules.crawlers.base_crawler import BaseCrawler"
   ]
  },
  {
   "cell_type": "code",
   "execution_count": null,
   "id": "9dbe5a4e",
   "metadata": {},
   "outputs": [],
   "source": [
    "card_btns = driver.find_elements(\n",
    "    By.XPATH,\n",
    "    \"//button[contains(text(),'Show details') or contains(@data-automation,'show-more')]\",\n",
    ")\n",
    "for btn in card_btns:\n",
    "    safe_click(driver, btn)\n",
    "    time.sleep(0.5)"
   ]
  },
  {
   "cell_type": "code",
   "execution_count": null,
   "id": "6f6b134b",
   "metadata": {},
   "outputs": [],
   "source": [
    "phone_btns = driver.find_elements(\n",
    "    By.XPATH,\n",
    "    \"//button[contains(@class,'PhoneNumberView') and contains(@class,'maskControls')]\",\n",
    ")\n",
    "for btn in phone_btns:\n",
    "    safe_click(driver, btn)\n",
    "    time.sleep(0.5)"
   ]
  },
  {
   "cell_type": "code",
   "execution_count": null,
   "id": "b0fba6ed",
   "metadata": {},
   "outputs": [],
   "source": [
    "cards = driver.find_elements(\n",
    "    By.XPATH,\n",
    "    \"//div[contains(@class,'Card__defaultCard') and contains(@class,'BookingSummaryCard__bookingSummaryCard')]\",\n",
    ")\n",
    "orders = []\n"
   ]
  },
  {
   "cell_type": "code",
   "execution_count": null,
   "id": "05c2b6ec",
   "metadata": {},
   "outputs": [],
   "source": [
    "card=cards[3]"
   ]
  },
  {
   "cell_type": "code",
   "execution_count": null,
   "id": "209e53fd",
   "metadata": {},
   "outputs": [],
   "source": [
    "els = card.find_elements(\n",
    "    By.XPATH,\n",
    "    \".//span[.//span[contains(text(),'Lead Traveler')]]/span[contains(@class,'LabelAndValue__value')]\"\n",
    ")\n",
    "print(\"found elements:\", len(els))\n",
    "if els:\n",
    "    print(\"text:\", els[0].text)\n"
   ]
  },
  {
   "cell_type": "code",
   "execution_count": null,
   "id": "92681f42",
   "metadata": {},
   "outputs": [],
   "source": [
    "msg_btn = card.find_element(\n",
    "    By.XPATH, \".//button[contains(@data-automation,'message-traveller')]\"\n",
    ")\n",
    "safe_click(driver, msg_btn)"
   ]
  },
  {
   "cell_type": "code",
   "execution_count": null,
   "id": "3bd32a72",
   "metadata": {},
   "outputs": [],
   "source": [
    "driver.find_elements(\n",
    "    By.XPATH,\n",
    "    \"//button[contains(@class,'PhoneNumberView__maskControls')]\",\n",
    ")"
   ]
  },
  {
   "cell_type": "code",
   "execution_count": null,
   "id": "0e2a57ca",
   "metadata": {},
   "outputs": [],
   "source": [
    "print(\"found elements:\", len(els))\n",
    "if els:\n",
    "    print(\"text:\", els[0].text)"
   ]
  },
  {
   "cell_type": "code",
   "execution_count": null,
   "id": "2af59e93",
   "metadata": {},
   "outputs": [],
   "source": [
    "text=\"Thursday, October 23rd, 2025 8:10 AM\""
   ]
  },
  {
   "cell_type": "code",
   "execution_count": null,
   "id": "1d0ff4d2",
   "metadata": {},
   "outputs": [],
   "source": [
    "import re"
   ]
  },
  {
   "cell_type": "code",
   "execution_count": null,
   "id": "2777e795",
   "metadata": {},
   "outputs": [],
   "source": [
    "text = re.sub(r\"(\\d+)(st|nd|rd|th)\", r\"\\1\", text)\n",
    "print(text)"
   ]
  },
  {
   "cell_type": "code",
   "execution_count": null,
   "id": "b85d6753",
   "metadata": {},
   "outputs": [],
   "source": [
    "parts = text.split(\",\", 1)[1]\n",
    "date_str = \" \".join(parts.split(\" \", 4)[0:4])\n",
    "print(parts)\n",
    "print(date_str)"
   ]
  },
  {
   "cell_type": "code",
   "execution_count": null,
   "id": "a3390aaa",
   "metadata": {},
   "outputs": [],
   "source": [
    "from datetime import datetime"
   ]
  },
  {
   "cell_type": "code",
   "execution_count": null,
   "id": "3eec354e",
   "metadata": {},
   "outputs": [],
   "source": [
    "dt = datetime.strptime(date_str.strip(), \"%B %d, %Y\")\n",
    "print(dt)"
   ]
  },
  {
   "cell_type": "code",
   "execution_count": null,
   "id": "5983f72f",
   "metadata": {},
   "outputs": [],
   "source": [
    "card=\"\"\"\n",
    "\n",
    "<div class=\"Card__defaultCard___H22VE BookingSummaryCard__bookingSummaryCard___Abg7Y\"><div class=\"Card__cardBody___oU0kD\"><div style=\"box-sizing: border-box; position: relative; margin-left: -20px; margin-right: -20px; padding-left: 20px; padding-right: 20px;\"><div class=\"\" style=\"margin-left: -20px; margin-right: -20px; display: flex; flex-wrap: wrap; flex-grow: 0; flex-shrink: 0; align-items: normal; overflow: visible;\"><div class=\"BookingSummaryCard__bookingDateContainer___CHi0G Grid__gridCol___sBQYW\" style=\"box-sizing: border-box; min-height: 1px; position: relative; padding-left: 20px; padding-right: 20px; width: 100%; overflow: visible; flex: 0 0 33.3333%; max-width: 33.3333%; margin-left: 0%; right: auto; left: auto;\"><span class=\"BookingSummaryCard__bookingDate___9mai3\"><svg viewBox=\"0 0 26 26\" xmlns=\"http://www.w3.org/2000/svg\" class=\"BookingSummaryCard__calenderIcon___zux-P Icon__icon___YmOY9\"><g fill-rule=\"nonzero\"><path d=\"M23.5 4.5h-3a1 1 0 010-2h4a1 1 0 011 1v21a1 1 0 01-1 1h-23a1 1 0 01-1-1v-21a1 1 0 011-1h4a1 1 0 110 2h-3v19h21v-19z\"></path><path d=\"M5.5 6.5a1 1 0 01-1-1v-4a1 1 0 011-1h3a1 1 0 011 1v4a1 1 0 01-1 1h-3zm1-2h1v-2h-1v2zM17.5 6.5a1 1 0 01-1-1v-4a1 1 0 011-1h3a1 1 0 011 1v4a1 1 0 01-1 1h-3zm1-2h1v-2h-1v2z\"></path><path d=\"M8.5 4.5a1 1 0 110-2h9a1 1 0 010 2h-9zM1.5 9.5a1 1 0 110-2h23a1 1 0 010 2h-23z\"></path></g></svg>&nbsp;Thu, Oct 23, 2025</span></div><div class=\"BookingSummaryCard__statusLabelsContainer___Chsca Grid__gridCol___sBQYW\" align=\"end\" style=\"box-sizing: border-box; min-height: 1px; position: relative; padding-left: 20px; padding-right: 20px; width: 100%; overflow: visible; flex: 0 0 66.6667%; max-width: 66.6667%; margin-left: 0%; right: auto; left: auto;\"><span class=\"jumpstart_ui__Badge__badge Badge__badge___vZ39z BookingStatusLabel__statusLabel___xH3lC\">Amended</span></div></div><div class=\"BookingSummaryCard__titleAndMessagesContainer___a0khS\" style=\"margin-left: -20px; margin-right: -20px; display: flex; flex-wrap: wrap; flex-grow: 0; flex-shrink: 0; align-items: normal; overflow: visible;\"><div class=\"BookingSummaryCard__bookingProductSummaryContainer___5L3iV Grid__gridCol___sBQYW\" style=\"box-sizing: border-box; min-height: 1px; position: relative; padding-left: 20px; padding-right: 20px; width: 100%; overflow: visible; flex: 0 0 66.6667%; max-width: 66.6667%; margin-left: 0%; right: auto; left: auto;\"><div class=\"BookingSummaryCard__productSummaryContainer___DKoO9\"><h3 class=\"BookingSummaryCard__productTitle___Lonxm\">Giethoorn, Afsluitdijk, Zaanse Schans Day Tour Incl Hotel Pick Up</h3><p class=\"BookingSummaryCard__productSubtitle___SQni0\">Giethoorn, Afsluitdijk, Zaanse Schans Day Tour on Mini VIP Bus 08:00</p></div></div><div class=\"BookingSummaryCard__unreadMessagesContainer___3RNgy Grid__gridCol___sBQYW\" style=\"box-sizing: border-box; min-height: 1px; position: relative; padding-left: 20px; padding-right: 20px; width: 100%; overflow: visible; flex: 0 0 33.3333%; max-width: 33.3333%; margin-left: 0%; right: auto; left: auto;\"></div></div><hr><div class=\"\" style=\"margin-left: -20px; margin-right: -20px; display: flex; flex-wrap: wrap; flex-grow: 0; flex-shrink: 0; align-items: normal; overflow: visible;\"><div class=\"Grid__gridCol___sBQYW\" style=\"box-sizing: border-box; min-height: 1px; position: relative; padding-left: 20px; padding-right: 20px; width: 100%; overflow: visible; flex: 0 0 50%; max-width: 50%; margin-left: 0%; right: auto; left: auto;\"><div class=\"BookingSummaryCard__bookingSummaryLabel___bTAMZ LabelAndValue__labelAndValueContainer___JOevi\"><span class=\"LabelAndValue__label___xo+Z8\"><span><span class=\"BookingSummaryCard__darkGrey___7bTqT\">Lead Traveler</span></span>: <span class=\"LabelAndValue__value___IY-eR\">Matt Williams</span></span></div><div class=\"BookingSummaryCard__bookingSummaryLabel___bTAMZ\">2 adults</div></div><div class=\"Grid__gridCol___sBQYW\" style=\"box-sizing: border-box; min-height: 1px; position: relative; padding-left: 20px; padding-right: 20px; width: 100%; overflow: visible; flex: 0 0 50%; max-width: 50%; margin-left: 0%; right: auto; left: auto;\"><div class=\"BookingSummaryCard__bookingSummaryLabel___bTAMZ BookingSummaryCard__darkGrey___7bTqT\"><strong>BR-1326775015</strong></div><div class=\"BookingSummaryCard__bookingSummaryLabel___bTAMZ\">Submitted Oct 16, 2025, 07:22 PM GMT+2</div></div></div><span style=\"display: table; clear: both;\"></span></div><div class=\"\"><div><div><button class=\"jumpstart_ui__Link__link Button__btnDefault___9bfxo Button__btnLink___Amwxr\" data-automation=\"booking-search-BR-1326775015-show-more\" type=\"button\">Hide details <svg viewBox=\"0 0 8 13\" xmlns=\"http://www.w3.org/2000/svg\" class=\"BookingSummaryCard__seeMoreArrow___I2GHR Arrow__arrowUp___qYPJJ Icon__icon___YmOY9\"><path d=\"M8 6.5L1.28 13 0 11.76 5.44 6.5 0 1.24 1.28 0z\" fill-rule=\"evenodd\"></path></svg></button></div></div><div aria-hidden=\"false\" class=\"rah-static rah-static--height-auto \" style=\"height: auto;\"><div style=\"\"><div><div class=\"BookingSummaryCard__detailsContainer___hpbg7\"><div style=\"box-sizing: border-box; position: relative; margin-left: -20px; margin-right: -20px; padding-left: 20px; padding-right: 20px; max-width: 960px;\"><div class=\"\" style=\"margin-left: -20px; margin-right: -20px; display: flex; flex-wrap: wrap; flex-grow: 0; flex-shrink: 0; align-items: normal; overflow: visible;\"><div class=\"Grid__gridCol___sBQYW\" style=\"box-sizing: border-box; min-height: 1px; position: relative; padding-left: 20px; padding-right: 20px; width: 100%; overflow: visible; flex: 1 0 0px; max-width: 100%; margin-left: 0%; right: auto; left: auto;\"><h4 class=\"BookingSummaryCard__detailBookingTypeHeading___CEXCc\">Instant Confirmation</h4></div></div><div class=\"\" style=\"margin-left: -20px; margin-right: -20px; display: flex; flex-wrap: wrap; flex-grow: 0; flex-shrink: 0; align-items: normal; overflow: visible;\"><div class=\"Grid__gridCol___sBQYW\" style=\"box-sizing: border-box; min-height: 1px; position: relative; padding-left: 20px; padding-right: 20px; width: 100%; overflow: visible; flex: 0 0 50%; max-width: 50%; margin-left: 0%; right: auto; left: auto;\"><div class=\"BookingSummaryCard__detailValuesContainer___695es\"><div class=\"BookingSummaryCard__maskedPhoneNumber___kIq5X BookingSummaryCard__bookingSummaryLabel___bTAMZ LabelAndValue__labelAndValueContainer___JOevi\"><span class=\"LabelAndValue__label___xo+Z8\"><span><span class=\"BookingSummaryCard__maskedPhoneNumber___kIq5X BookingSummaryCard__darkGrey___7bTqT\">Customer phone number</span></span>: <span class=\"LabelAndValue__value___IY-eR\"><div><a href=\"tel:+1 801-678-6557\"><span>  +1 801-678-6557</span></a></div></span></span></div><div class=\"BookingSummaryCard__bookingSummaryLabel___bTAMZ LabelAndValue__labelAndValueContainer___JOevi\"><span class=\"LabelAndValue__label___xo+Z8\"><span><span class=\"BookingSummaryCard__darkGrey___7bTqT\">Traveler names</span></span>: <span class=\"LabelAndValue__value___IY-eR\"><ul><li>Matt Williams (Adult)</li><li>Passenger one (Adult)</li></ul></span></span></div><div class=\"BookingSummaryCard__bookingSummaryLabel___bTAMZ LabelAndValue__labelAndValueContainer___JOevi\"><span class=\"LabelAndValue__label___xo+Z8\"><span><span class=\"BookingSummaryCard__darkGrey___7bTqT\">Tour language</span></span>: <span class=\"LabelAndValue__value___IY-eR\"><ul><li>English</li></ul></span></span></div><div class=\"BookingSummaryCard__bookingSummaryLabel___bTAMZ LabelAndValue__labelAndValueContainer___JOevi\"><span class=\"LabelAndValue__label___xo+Z8\"><span><span class=\"BookingSummaryCard__darkGrey___7bTqT\">Inclusions</span></span>: <span class=\"LabelAndValue__value___IY-eR\"><ul><li>Air-conditioned vehicle</li><li>Bottled water</li><li>Including guided cheese factory tour</li><li>Including guided wooden shoes factory tour</li><li>Including guided diamond demonstration tour</li><li>Including one hour boat cruise in Giethoorn</li><li>All Fees and Taxes</li><li>Entry/Admission - Kooijman Souvenirs &amp; Clogs Wooden Shoe Workshop</li><li>Entry/Admission - Catharina Hoeve Cheese Farm</li><li>Entry/Admission - Zaanse Schans</li></ul></span></span></div></div></div><div class=\"Grid__gridCol___sBQYW\" style=\"box-sizing: border-box; min-height: 1px; position: relative; padding-left: 20px; padding-right: 20px; width: 100%; overflow: visible; flex: 0 0 50%; max-width: 50%; margin-left: 0%; right: auto; left: auto;\"><div class=\"BookingSummaryCard__detailValuesContainer___695es\"><div class=\"BookingSummaryCard__bookingSummaryLabel___bTAMZ LabelAndValue__labelAndValueContainer___JOevi\"><span class=\"LabelAndValue__label___xo+Z8\"><span><span class=\"BookingSummaryCard__darkGrey___7bTqT\">Pickup point</span></span>: <span class=\"LabelAndValue__value___IY-eR\">Motel One Amsterdam-Waterlooplein, Valkenburgerstraat 90, 1011 LZ Amsterdam The Netherlands</span></span></div><div class=\"BookingSummaryCard__bookingSummaryLabel___bTAMZ LabelAndValue__labelAndValueContainer___JOevi\"><span class=\"LabelAndValue__label___xo+Z8\"><span><span class=\"BookingSummaryCard__darkGrey___7bTqT\">Booking Source</span></span>: <span class=\"LabelAndValue__value___IY-eR\">Tripadvisor</span></span></div><div class=\"BookingSummaryCard__bookingSummaryLabel___bTAMZ LabelAndValue__labelAndValueContainer___JOevi\"><span class=\"LabelAndValue__label___xo+Z8\"><span><span class=\"BookingSummaryCard__darkGrey___7bTqT\">Product code</span></span>: <span class=\"LabelAndValue__value___IY-eR\">311086P1</span></span></div><div class=\"BookingSummaryCard__bookingSummaryLabel___bTAMZ LabelAndValue__labelAndValueContainer___JOevi\"><span class=\"LabelAndValue__label___xo+Z8\"><span><span class=\"BookingSummaryCard__darkGrey___7bTqT\">Amendment submitted</span></span>: <span class=\"LabelAndValue__value___IY-eR\">Oct 16, 2025, 08:41 PM GMT+2</span></span></div><div class=\"BookingSummaryCard__bookingSummaryLabel___bTAMZ LabelAndValue__labelAndValueContainer___JOevi\"><span class=\"LabelAndValue__label___xo+Z8\"><span><span class=\"BookingSummaryCard__darkGrey___7bTqT\">Amount you will be paid</span></span>: <span class=\"LabelAndValue__value___IY-eR\">EUR&nbsp;190.92</span></span></div><button class=\"jumpstart_ui__Link__link Button__btnDefault___9bfxo Button__btnLink___Amwxr\" data-automation=\"booking-search-BR-1326775015-contact-us\" type=\"button\">Contact customer care</button><button class=\"jumpstart_ui__Link__link Button__btnDefault___9bfxo BookingDetailsCtaSection__detailCallToAction___cZrDN Button__btnLink___Amwxr\" data-automation=\"booking-search-BR-1326775015-history\" type=\"button\">Booking history</button><button class=\"jumpstart_ui__Link__link Button__btnDefault___9bfxo BookingDetailsCtaSection__detailCallToAction___cZrDN Button__btnLink___Amwxr\" data-automation=\"booking-search-BR-1326775015-voucher\" type=\"button\">Print ticket</button></div></div></div><span style=\"display: table; clear: both;\"></span></div></div></div></div></div></div><hr><div class=\"BookingSummaryCardWithCtaFooter__footer___WqiWa\"><div class=\"BookingSummaryCardWithCtaFooter__bookingCtaButtonLinks___HWjR9\"><div class=\"ButtonContainerHorizontal__btnContainerHorizontal___H1OXf ButtonContainerHorizontal__stackOnMobile___DlAvu\"><button class=\"jumpstart_ui__Link__link Button__btnDefault___9bfxo Button__btnLink___Amwxr\" data-automation=\"booking-search-BR-1326775015-acknowledge\" type=\"button\">Acknowledge</button><button class=\"jumpstart_ui__Link__link Button__btnDefault___9bfxo Button__btnLink___Amwxr\" data-automation=\"booking-search-BR-1326775015-request-cancelation\" type=\"button\">Cancel booking</button></div></div><div class=\"BookingSummaryCardWithCtaFooter__bookingCtaButtons___w2LvW\"><div class=\"ButtonContainerHorizontal__btnContainerHorizontal___H1OXf ButtonContainerHorizontal__stackOnMobile___DlAvu\"><button class=\"jumpstart_ui__Button__default Button__btnDefault___9bfxo jumpstart_ui__Button__md\" data-automation=\"booking-search-BR-1326775015-message-traveller\" type=\"button\"><span>Message traveler</span></button></div></div></div></div></div>\"\"\""
   ]
  },
  {
   "cell_type": "code",
   "execution_count": null,
   "id": "4084fe59",
   "metadata": {},
   "outputs": [],
   "source": []
  },
  {
   "cell_type": "code",
   "execution_count": null,
   "id": "22dcf10b",
   "metadata": {},
   "outputs": [],
   "source": [
    "# modules/crawler_KLK.py\n",
    "import re\n",
    "import time\n",
    "import json\n",
    "import os\n",
    "from datetime import datetime\n",
    "from selenium.webdriver.common.by import By\n",
    "from selenium.webdriver.common.keys import Keys\n",
    "from selenium.webdriver.support.ui import WebDriverWait\n",
    "from selenium.webdriver.support import expected_conditions as EC\n",
    "from modules.browser_connector import find_bookmark_url\n",
    "from modules.output_utils import extract_country_code_from_phone, format_phone_number\n",
    "from selenium.webdriver.common.action_chains import ActionChains\n",
    "from selenium.common.exceptions import (\n",
    "    StaleElementReferenceException,\n",
    "    ElementClickInterceptedException,\n",
    ")\n",
    "\n",
    "# ===============================\n",
    "# 📌 1. 加载配置\n",
    "# ===============================\n",
    "GROUPS_CONFIG_PATH =r\"C:\\Users\\Nan Li\\Documents\\Coding\\auto_tourist_management\\config\\groups.json\"\n",
    "with open(GROUPS_CONFIG_PATH, \"r\", encoding=\"utf-8\") as f:\n",
    "    GROUPS_CONFIG = json.load(f)\n",
    "\n",
    "KEYWORDS_MAP = GROUPS_CONFIG[\"keywords\"]\n",
    "# TOGUIDE_MAP = GROUPS_CONFIG[\"toGuide\"]"
   ]
  },
  {
   "cell_type": "code",
   "execution_count": null,
   "id": "8012f551",
   "metadata": {},
   "outputs": [],
   "source": [
    "def get_value_by_label(block, label_text):\n",
    "    \"\"\"\n",
    "    通用提取函数：\n",
    "    根据 <p class='label'>label_text</p>，\n",
    "    找到它所在的 li，然后从 li 内部的 .valuesColumns 取值。\n",
    "    \"\"\"\n",
    "    try:\n",
    "        li = block.find_element(\n",
    "            By.XPATH, f\".//li[p[@class='label' and normalize-space()='{label_text}']]\"\n",
    "        )\n",
    "        value_div = li.find_element(\n",
    "            By.XPATH, \".//div[contains(@class,'valuesColumns')]\"\n",
    "        )\n",
    "        return value_div.text.strip()\n",
    "    except Exception as e:\n",
    "        # 调试用：打印错误，方便定位\n",
    "        print(f\"⚠️ get_value_by_label 失败：{label_text} -> {e}\")\n",
    "        return \"\"\n",
    "\n",
    "\n",
    "def get_departure_location(block):\n",
    "    \"\"\"\n",
    "    Departure location 特殊：在 li 下的 span 内\n",
    "    \"\"\"\n",
    "    try:\n",
    "        li = block.find_element(\n",
    "            By.XPATH,\n",
    "            \".//li[p[@class='label' and normalize-space()='Departure location:']]\",\n",
    "        )\n",
    "        span = li.find_element(By.XPATH, \".//span[1]\")\n",
    "        return span.text.strip()\n",
    "    except Exception as e:\n",
    "        print(f\"⚠️ get_departure_location 失败：{e}\")\n",
    "        return \"\"\n",
    "\n",
    "\n",
    "def extract_traveler_name(booking_info):\n",
    "    return get_value_by_label(booking_info, \"Full name:\")\n",
    "\n",
    "\n",
    "def extract_traveler_phone(booking_info):\n",
    "    phone = get_value_by_label(booking_info, \"Phone number:\")\n",
    "    phone = phone.replace(\"-\", \"\").replace(\" \", \"\").strip()\n",
    "    if phone and not phone.startswith(\"+\"):\n",
    "        phone = f\"+{phone}\"\n",
    "    return phone\n",
    "\n",
    "\n",
    "def extract_traveler_country(phone):\n",
    "    try:\n",
    "        return extract_country_code_from_phone(phone) or \"XX\"\n",
    "    except:\n",
    "        return \"XX\"\n",
    "\n",
    "\n",
    "def extract_traveler_count(booking_info):\n",
    "    unit_text = get_value_by_label(booking_info, \"Unit:\")\n",
    "    m = re.search(r\"[Xx×]\\s*(\\d+)\", unit_text or \"\")\n",
    "    return int(m.group(1)) if m else 1\n",
    "\n",
    "\n",
    "def extract_traveler_hotel(booking_info):\n",
    "    return get_departure_location(booking_info)\n",
    "\n",
    "\n",
    "def extract_language(booking_info):\n",
    "    lang = get_value_by_label(booking_info, \"Preferred language:\")\n",
    "    if lang:\n",
    "        return lang\n",
    "    pkg = get_value_by_label(booking_info, \"Package name:\")\n",
    "    return pkg.split()[0] if pkg else \"Unknown\"\n",
    "\n",
    "\n",
    "def extract_group_name(booking_info):\n",
    "    activity_name = get_value_by_label(booking_info, \"Activity name:\")\n",
    "    package_name = get_value_by_label(booking_info, \"Package name:\")\n",
    "    if activity_name and package_name:\n",
    "        return f\"{activity_name} - {package_name}\"\n",
    "    return activity_name or package_name or \"Unknown\"\n",
    "\n",
    "\n",
    "def extract_activity_date(booking_info):\n",
    "    t = get_value_by_label(booking_info, \"Participation time:\")\n",
    "    m = re.search(r\"\\d{4}-\\d{2}-\\d{2}\", t or \"\")\n",
    "    if not m:\n",
    "        return None\n",
    "    date_str = m.group(0)\n",
    "    try:\n",
    "        dt = datetime.strptime(date_str, \"%Y-%m-%d\")\n",
    "        return dt.strftime(\"a%y%m%d\")\n",
    "    except:\n",
    "        return None\n"
   ]
  },
  {
   "cell_type": "code",
   "execution_count": null,
   "id": "cb5cbbb3",
   "metadata": {},
   "outputs": [],
   "source": [
    "block = \"\"\"\n",
    "<div data-v-330d8bc8=\"\" data-v-5cc57b0e=\"\" data-spm-module=\"Booking_LIST?trg=manual&amp;ext={&quot;objectId&quot;:&quot;ANM200984&quot;,&quot;index&quot;: &quot;1&quot;}\" class=\"booking-item booking-item\"><div data-v-330d8bc8=\"\" data-spm-item=\"__default\"><div data-v-330d8bc8=\"\" class=\"boooking-general-info-operation\"><div data-spm-page=\"BookingList?trg=manual\" class=\"booking-general-info\" style=\"background-color: rgb(250, 250, 250);\"><div class=\"info-left\"><img src=\"https://res.klook.com/image/upload/v1600351703/UED%20Team%EF%BC%88for%20DE%20only%EF%BC%89/category%20icon/L1%20and%20L2/icon_category_attractions_xm_colorful.png\" class=\"info-icon\"><span data-spm-module=\"BookingReferenceIDClick?trg=manual&amp;ext={&quot;obejctId&quot;:&quot;booking_ANM200984&quot;}\" class=\"info-item\"><span class=\"info-title\">Booking reference ID: </span><a href=\"javascript:void(0)\" data-spm-item=\"__default\">\n",
    "        ANM200984\n",
    "      </a></span><span class=\"info-item\"><span class=\"info-title\">Booking time: </span>\n",
    "      2025-10-03 11:44:44\n",
    "      (GMT+8)\n",
    "    </span><span class=\"info-item\"><span class=\"info-title\">Booking status: </span><span><!----><!----><!----><span class=\"ant-tag ant-tag-green\">Confirmed</span></span><!----><!----><!----></span></div><div class=\"info-right\"><div class=\"booking-tag\"><!----><!----></div><!----></div></div><div data-v-394055da=\"\" class=\"booking-operation\"><div data-v-394055da=\"\" id=\"BookingList_BookingDetail\" data-spm-page=\"BookingList?trg=manual\" class=\"operation-left\"><div data-v-394055da=\"\" class=\"tag-note\"><div data-v-394055da=\"\" class=\"tag-item\" style=\"background-color: rgb(255, 255, 255); border-color: rgb(217, 217, 217);\"></div><span data-v-394055da=\"\" class=\"tag-edit-text\">\n",
    "          \n",
    "        </span><span data-v-394055da=\"\" class=\"tag-edit-text\">Tags &amp; notes</span><i data-v-394055da=\"\" aria-label=\"icon: edit\" class=\"tag-edit-icon anticon anticon-edit\"><svg viewBox=\"64 64 896 896\" data-icon=\"edit\" width=\"1em\" height=\"1em\" fill=\"currentColor\" aria-hidden=\"true\" focusable=\"false\" class=\"\"><path d=\"M257.7 752c2 0 4-.2 6-.5L431.9 722c2-.4 3.9-1.3 5.3-2.8l423.9-423.9a9.96 9.96 0 0 0 0-14.1L694.9 114.9c-1.9-1.9-4.4-2.9-7.1-2.9s-5.2 1-7.1 2.9L256.8 538.8c-1.5 1.5-2.4 3.3-2.8 5.3l-29.5 168.2a33.5 33.5 0 0 0 9.4 29.8c6.6 6.4 14.9 9.9 23.8 9.9zm67.4-174.4L687.8 215l73.3 73.3-362.7 362.6-88.9 15.7 15.6-89zM880 836H144c-17.7 0-32 14.3-32 32v36c0 4.4 3.6 8 8 8h784c4.4 0 8-3.6 8-8v-36c0-17.7-14.3-32-32-32z\"></path></svg></i></div><!----><div data-v-394055da=\"\" class=\"more-menu\"><div data-v-394055da=\"\" class=\"ant-dropdown-link ant-dropdown-trigger\"><i data-v-394055da=\"\" aria-label=\"icon: more\" class=\"anticon anticon-more\"><svg viewBox=\"64 64 896 896\" data-icon=\"more\" width=\"1em\" height=\"1em\" fill=\"currentColor\" aria-hidden=\"true\" focusable=\"false\" class=\"\"><path d=\"M456 231a56 56 0 1 0 112 0 56 56 0 1 0-112 0zm0 280a56 56 0 1 0 112 0 56 56 0 1 0-112 0zm0 280a56 56 0 1 0 112 0 56 56 0 1 0-112 0z\"></path></svg></i>\n",
    "          More\n",
    "        </div></div></div><div data-v-394055da=\"\" class=\"operation-right\"><!----><!----><div data-v-330d8bc8=\"\" id=\"BookingList_BookingDetail\" data-spm-page=\"BookingList?trg=manual\" class=\"booking-item-operation\" data-v-394055da=\"\"><div data-spm-module=\"RejectClick?trg=manual&amp;ext={&quot;obejctId&quot;:&quot;booking_ANM200984&quot;}\" style=\"display: inline-block;\"><!----></div><div data-spm-module=\"EditClick?trg=manual&amp;ext={&quot;obejctId&quot;:&quot;booking_ANM200984&quot;}\" class=\"\" style=\"display: inline-block;\"><button data-spm-item=\"__default\" type=\"button\" class=\"confirm-btn ant-btn ant-btn-primary\"><span>Edit</span></button></div><!----><!----><!----><!----><!----><div style=\"max-width: 300px;\"><div data-v-00b27b60=\"\" class=\"craft-booking\"></div></div></div></div><div data-v-289993bf=\"\" data-v-394055da=\"\"><!----><!----></div><div data-v-396cf4ea=\"\" data-v-394055da=\"\"><!----></div><!----></div></div><div data-v-330d8bc8=\"\" class=\"booking-info\"><ul data-v-e0d32f78=\"\" data-v-330d8bc8=\"\" class=\"booking-info-item\"><li data-v-e0d32f78=\"\"><p data-v-e0d32f78=\"\" class=\"label\">Activity ID:</p><div data-v-4f69d677=\"\" data-v-e0d32f78=\"\" class=\"pick-up-item-container value\"><div data-v-4f69d677=\"\" class=\"valuesColumns\">146697</div><!----></div></li><li data-v-e0d32f78=\"\"><p data-v-e0d32f78=\"\" class=\"label\">Activity name:</p><div data-v-4f69d677=\"\" data-v-e0d32f78=\"\" class=\"pick-up-item-container value\"><div data-v-4f69d677=\"\" class=\"valuesColumns\">Zaanse Schans, Lego Village and Giethoorn Day Tour Incl. Boat Cruise</div><!----></div></li><li data-v-e0d32f78=\"\"><p data-v-e0d32f78=\"\" class=\"label\">Package name:</p><div data-v-4f69d677=\"\" data-v-e0d32f78=\"\" class=\"pick-up-item-container value\"><div data-v-4f69d677=\"\" class=\"valuesColumns\">【Shared Tour】Price Per Person</div><!----></div></li><li data-v-e0d32f78=\"\"><p data-v-e0d32f78=\"\" class=\"label\">Internal title:</p><div data-v-4f69d677=\"\" data-v-e0d32f78=\"\" class=\"pick-up-item-container value\"><div data-v-4f69d677=\"\" class=\"valuesColumns\">-</div><!----></div></li><li data-v-e0d32f78=\"\"><p data-v-e0d32f78=\"\" class=\"label\">Cost price amount:</p><div data-v-4f69d677=\"\" data-v-e0d32f78=\"\" class=\"pick-up-item-container value\"><div data-v-4f69d677=\"\" class=\"valuesColumns\">2,250.00 CNY</div><!----></div></li></ul><ul data-v-e0d32f78=\"\" data-v-330d8bc8=\"\" class=\"booking-info-item\"><li data-v-e0d32f78=\"\"><p data-v-e0d32f78=\"\" class=\"label\">Unit:</p><div data-v-4f69d677=\"\" data-v-e0d32f78=\"\" class=\"pick-up-item-container value\"><div data-v-4f69d677=\"\" class=\"valuesColumns\">Person x 3</div><!----></div></li><li data-v-e0d32f78=\"\"><p data-v-e0d32f78=\"\" class=\"label\">Participation time:</p><div data-v-4f69d677=\"\" data-v-e0d32f78=\"\" class=\"pick-up-item-container value\"><div data-v-4f69d677=\"\" class=\"valuesColumns\">2025-10-17 08:00:00</div><!----></div></li></ul><ul data-v-e0d32f78=\"\" data-v-330d8bc8=\"\" class=\"booking-info-item\"><li data-v-e0d32f78=\"\"><p data-v-e0d32f78=\"\" class=\"label\">Voucher type:</p><div data-v-4f69d677=\"\" data-v-e0d32f78=\"\" class=\"pick-up-item-container value\"><div data-v-4f69d677=\"\" class=\"valuesColumns\">KLOOKCODE</div><!----></div></li><li data-v-e0d32f78=\"\"><p data-v-e0d32f78=\"\" class=\"label\">Confirmation type:</p><div data-v-4f69d677=\"\" data-v-e0d32f78=\"\" class=\"pick-up-item-container value\"><div data-v-4f69d677=\"\" class=\"valuesColumns\">Instant confirmation</div><!----></div></li><li data-v-e0d32f78=\"\"><p data-v-e0d32f78=\"\" class=\"label\">Confirmation time:</p><div data-v-4f69d677=\"\" data-v-e0d32f78=\"\" class=\"pick-up-item-container value\"><div data-v-4f69d677=\"\" class=\"valuesColumns\">2025-10-03 11:46:17</div><!----></div></li><li data-v-e0d32f78=\"\"><p data-v-e0d32f78=\"\" class=\"label\">Order channel:</p><div data-v-4f69d677=\"\" data-v-e0d32f78=\"\" class=\"pick-up-item-container value\"><div data-v-4f69d677=\"\" class=\"valuesColumns\">Klook</div><!----></div></li></ul><ul data-v-e0d32f78=\"\" data-v-330d8bc8=\"\" class=\"booking-info-item\"><li data-v-e0d32f78=\"\"><p data-v-e0d32f78=\"\" class=\"label\">Full name:</p><div data-v-4f69d677=\"\" data-v-e0d32f78=\"\" class=\"pick-up-item-container value\"><div data-v-4f69d677=\"\" class=\"valuesColumns\">DEVANG PARIKH</div><!----></div></li><li data-v-e0d32f78=\"\"><p data-v-e0d32f78=\"\" class=\"label\">Email:</p><div data-v-4f69d677=\"\" data-v-e0d32f78=\"\" class=\"pick-up-item-container value\"><div data-v-4f69d677=\"\" class=\"valuesColumns\">devanghparikh@gmail.com</div><!----></div></li><li data-v-e0d32f78=\"\"><p data-v-e0d32f78=\"\" class=\"label\">Phone number:</p><div data-v-4f69d677=\"\" data-v-e0d32f78=\"\" class=\"pick-up-item-container value\"><div data-v-4f69d677=\"\" class=\"valuesColumns\">91-9892180111</div><!----></div></li></ul><ul data-v-e0d32f78=\"\" data-v-330d8bc8=\"\" class=\"booking-info-item\"><li data-v-e0d32f78=\"\"><p data-v-e0d32f78=\"\" class=\"label\">Preferred language:</p><div data-v-4f69d677=\"\" data-v-e0d32f78=\"\" class=\"pick-up-item-container value\"><div data-v-4f69d677=\"\" class=\"valuesColumns\">English</div><!----></div></li><li data-v-e0d32f78=\"\"><p data-v-e0d32f78=\"\" class=\"label\">Departure location:</p><div data-v-4f69d677=\"\" data-v-e0d32f78=\"\" class=\"pick-up-item-container value\"><span data-v-4f69d677=\"\">\n",
    "    Amsterdam Centraal\n",
    "  </span><span data-v-4f69d677=\"\" class=\"item-actions\"><div data-v-ebe011e4=\"\" data-v-4f69d677=\"\" class=\"duplication-container item-action\" style=\"font-size: 12px; font-weight: 400;\"><svg data-v-7bfe6861=\"\" data-v-ebe011e4=\"\" class=\"klook-svg klook-svg_copy\" style=\"width: 16px; height: 16px;\"><use data-v-7bfe6861=\"\" xlink:href=\"#copy\"></use></svg>Copy Location\n",
    "  </div><div data-v-4f69d677=\"\" class=\"item-action\" style=\"font-size: 12px; font-weight: 400;\"><svg data-v-7bfe6861=\"\" data-v-4f69d677=\"\" class=\"klook-svg klook-svg_view-on-map\" style=\"width: 16px; height: 16px;\"><use data-v-7bfe6861=\"\" xlink:href=\"#view-on-map\"></use></svg>View on map\n",
    "      <div data-v-16a54a50=\"\" data-v-4f69d677=\"\" class=\"map-container item-action-map\" style=\"display: none;\"><div data-v-16a54a50=\"\" class=\"map-instance\"></div><!----></div></div></span></div></li></ul></div><div data-v-330d8bc8=\"\" class=\"view-more\"><button data-v-330d8bc8=\"\" type=\"button\" class=\"ant-btn ant-btn-link\"><span>Show more</span><svg data-v-7bfe6861=\"\" data-v-330d8bc8=\"\" class=\"klook-svg klook-svg_page-down\" style=\"width: 16px; height: 16px;\"><use data-v-7bfe6861=\"\" xlink:href=\"#page-down\"></use></svg></button><!----></div></div></div>\n",
    "      \"\"\""
   ]
  },
  {
   "cell_type": "code",
   "execution_count": null,
   "id": "4405525b",
   "metadata": {},
   "outputs": [],
   "source": [
    "extract_traveler_name(block)"
   ]
  },
  {
   "cell_type": "code",
   "execution_count": null,
   "id": "694e8255",
   "metadata": {},
   "outputs": [],
   "source": [
    "extract_activity_date(block)"
   ]
  },
  {
   "cell_type": "code",
   "execution_count": null,
   "id": "355abd4d",
   "metadata": {},
   "outputs": [],
   "source": [
    "extract_traveler_count(block)"
   ]
  },
  {
   "cell_type": "code",
   "execution_count": null,
   "id": "f3c8c5f6",
   "metadata": {},
   "outputs": [],
   "source": [
    "extract_traveler_hotel(block)"
   ]
  },
  {
   "cell_type": "code",
   "execution_count": null,
   "id": "b8ab0e93",
   "metadata": {},
   "outputs": [],
   "source": []
  },
  {
   "cell_type": "code",
   "execution_count": null,
   "id": "0b6a2352",
   "metadata": {},
   "outputs": [],
   "source": []
  },
  {
   "cell_type": "code",
   "execution_count": null,
   "id": "8ab17f12",
   "metadata": {},
   "outputs": [],
   "source": []
  },
  {
   "cell_type": "code",
   "execution_count": null,
   "id": "bd8ace1c",
   "metadata": {},
   "outputs": [],
   "source": [
    "import pandas as pd\n",
    "import re\n",
    "from datetime import datetime\n",
    "# ====== 导游信息 ======\n",
    "guide_info = {\n",
    "    \"PT\": {\n",
    "        \"name\": \"Pete\",\n",
    "        \"phone\": \"+31 6 38 68 38 39\",\n",
    "        \"plate\": \"ZV-653-G\",\n",
    "        \"car\": \"Black Mercedes van\",\n",
    "        \"lang\": \"EN\",\n",
    "    },\n",
    "    \"RE\": {\n",
    "        \"name\": \"Reinier\",\n",
    "        \"phone\": \"+31 6 18 01 07 47\",\n",
    "        \"plate\": \"G-746-NF\",\n",
    "        \"car\": \"Black Mercedes van\",\n",
    "        \"lang\": \"EN\",\n",
    "    },\n",
    "    \"LZ\": {\n",
    "        \"name\": \"Leidse\",\n",
    "        \"phone\": \"+31 6 41 32 32 64\",\n",
    "        \"plate\": \"NK-125-S\",\n",
    "        \"car\": \"Black Mercedes van\",\n",
    "        \"lang\": \"EN\",\n",
    "    },\n",
    "    \"KA\": {\n",
    "        \"name\": \"Kai\",\n",
    "        \"phone\": \"+31 6 29 17 27 81\",\n",
    "        \"plate\": \"R-278-JT\",\n",
    "        \"car\": \"Black Mercedes van\",\n",
    "        \"lang\": \"EN\",\n",
    "    },\n",
    "    \"LY\": {\n",
    "        \"name\": \"Eric\",\n",
    "        \"phone\": \"+31 6 38 37 65 77\",\n",
    "        \"plate\": \"X-010-ZF\",\n",
    "        \"car\": \"Black Mercedes van\",\n",
    "        \"lang\": \"EN\",\n",
    "    },\n",
    "    \"SM\": {\n",
    "        \"name\": \"Simon\",\n",
    "        \"phone\": \"+31 6 47 05 07 46\",\n",
    "        \"plate\": \"T-278-JF\",\n",
    "        \"car\": \"Brown Mercedes van\",\n",
    "        \"lang\": \"EN\",\n",
    "    },\n",
    "    \"SR\": {\n",
    "        \"name\": \"苏瑞\",\n",
    "        \"phone\": \"+31 6 51 22 21 38\",\n",
    "        \"plate\": \"G-746-NF\",\n",
    "        \"car\": \"黑色奔驰商务车\",\n",
    "        \"lang\": \"CN\",\n",
    "    },\n",
    "    \"KD\": {\n",
    "        \"name\": \"邓导, Kendall\",\n",
    "        \"phone\": \"+31 6 86 05 77 66\",\n",
    "        \"plate\": \"KB-585-F\",\n",
    "        \"car\": \"银色奔驰商务车\",\n",
    "        \"lang\": \"CN\",\n",
    "    },\n",
    "    \"Unknown\": {\n",
    "        \"name\": \"Unknown\",\n",
    "        \"phone\": \"N/A\",\n",
    "        \"plate\": \"N/A\",\n",
    "        \"car\": \"Mercedes van\",\n",
    "        \"lang\": \"EN\",\n",
    "    },\n",
    "}\n",
    "\n",
    "# ====== 团代码映射 ======\n",
    "tour_map = {\n",
    "    \"GAZ\": \"Zaanse Schans, Afsluitdijk and Giethoorn\",\n",
    "    \"GZZ\": \"Zaanse Schans, Lego Village and Giethoorn\",\n",
    "    \"GZ\": \"Zaanse Schans and Giethoorn\",\n",
    "    \"RDD\": \"Rotterdam, Delft and The Hague\",\n",
    "    \"RDD-D\": \"Rotterdam, Delft and The Hague\",\n",
    "    \"RDD-M\": \"Rotterdam, Delft and The Hague\",\n",
    "}\n"
   ]
  },
  {
   "cell_type": "code",
   "execution_count": null,
   "id": "504f50b2",
   "metadata": {},
   "outputs": [],
   "source": [
    "full_name = \"a251009 CA 2 Paul Rodie GAZ V1 RE\"\n",
    "note = \"\"\"HOTEL: Kimpton De Witt By IHG, Nieuwezijds Voorburgwal 5, 1012 RC Amsterdam\n",
    "BOAT: Yes\n",
    "\n",
    "T: 8:20\n",
    "L: \n",
    "N: \n",
    "O:\"\"\""
   ]
  },
  {
   "cell_type": "code",
   "execution_count": null,
   "id": "213210bb",
   "metadata": {},
   "outputs": [],
   "source": [
    "parts = full_name.split()\n",
    "parts"
   ]
  },
  {
   "cell_type": "code",
   "execution_count": null,
   "id": "a76a0b45",
   "metadata": {},
   "outputs": [],
   "source": [
    " # --- 基本解析 ---\n",
    "tour_date, country, people = parts[0], parts[1], parts[2]\n",
    "# 判断是否中文团（含 CN 或 CT）\n",
    "is_cn = \"CN\" in parts\n",
    "\n",
    "# 游客姓名提取\n",
    "if is_cn:\n",
    "    guest_name = \" \".join(parts[3:-4])\n",
    "else:\n",
    "    guest_name = \" \".join(parts[3:-3])\n",
    "guest_name"
   ]
  },
  {
   "cell_type": "code",
   "execution_count": null,
   "id": "25cafd80",
   "metadata": {},
   "outputs": [],
   "source": [
    "# 导游代码\n",
    "guide_code = parts[-1] if parts[-1] in guide_info else \"Unknown\"\n",
    "guide = guide_info[guide_code]\n",
    "\n",
    "# 团名识别\n",
    "tour_code = next((p for p in parts if p in tour_map), None)\n",
    "tour_name = tour_map.get(tour_code, \"your booked tour\")\n",
    "guide\n"
   ]
  },
  {
   "cell_type": "code",
   "execution_count": null,
   "id": "fe41cc4f",
   "metadata": {},
   "outputs": [],
   "source": [
    "def parse_note(note: str) -> dict:\n",
    "    \"\"\"\n",
    "    将 note 按行解析成 {KEY: value} 字典，只取同一行冒号后的内容。\n",
    "    例如：'HOTEL: Amsterdam Marriott Hotel, ...' → {'HOTEL': 'Amsterdam Marriott Hotel, ...'}\n",
    "    \"\"\"\n",
    "    fields = {}\n",
    "    for raw in note.splitlines():\n",
    "        m = re.match(r'^\\s*([A-Za-z]+)\\s*:\\s*(.*)\\s*$', raw)\n",
    "        if m:\n",
    "            key = m.group(1).upper()\n",
    "            value = m.group(2).strip()\n",
    "            fields[key] = value  # 如果同一个 key 多次出现，以最后一次为准\n",
    "    return fields"
   ]
  },
  {
   "cell_type": "code",
   "execution_count": null,
   "id": "82649500",
   "metadata": {},
   "outputs": [],
   "source": [
    "fields      = parse_note(note)\n",
    "hotel_raw   = fields.get(\"HOTEL\", \"\")\n",
    "boat_raw    = fields.get(\"BOAT\", \"\")\n",
    "t_raw       = fields.get(\"T\", \"\")\n",
    "meeting_raw = fields.get(\"L\", \"\")\n",
    "reason_raw  = fields.get(\"N\", \"\")\n",
    "other_raw   = fields.get(\"O\", \"\")\n",
    "\n",
    "# 只取 T 行的第一个时间（如 T: 8:20 (8:25) → 8:20）\n",
    "m_time = re.search(r\"\\b\\d{1,2}:\\d{2}\\b\", t_raw)\n",
    "pickup_time = m_time.group(0) if m_time else \"\""
   ]
  },
  {
   "cell_type": "code",
   "execution_count": null,
   "id": "c0db6d83",
   "metadata": {},
   "outputs": [],
   "source": [
    "# === 分离酒店信息 ===\n",
    "hotel_name, hotel_street, hotel_zipcode = \"\", \"\", \"\"\n",
    "if \",\" in hotel_raw:\n",
    "    parts_hotel = [p.strip() for p in hotel_raw.split(\",\")]\n",
    "    if len(parts_hotel) >= 3:\n",
    "        hotel_name = parts_hotel[0]\n",
    "        hotel_street = parts_hotel[1]\n",
    "        hotel_zipcode = \", \".join(parts_hotel[2:])\n",
    "    elif len(parts_hotel) == 2:\n",
    "        hotel_name = parts_hotel[0]\n",
    "        hotel_street = parts_hotel[1]\n",
    "    elif len(parts_hotel) == 1:\n",
    "        hotel_name = parts_hotel[0]\n",
    "else:\n",
    "    hotel_name = hotel_raw.strip()"
   ]
  },
  {
   "cell_type": "code",
   "execution_count": null,
   "id": "ffb4806c",
   "metadata": {},
   "outputs": [],
   "source": [
    "# === 模板类型判断 ===\n",
    "if hotel_raw==\"\" or \"CS\" in reason_raw:\n",
    "    template_type = 3\n",
    "elif meeting_raw:\n",
    "    template_type = 2\n",
    "else:\n",
    "    template_type = 1"
   ]
  },
  {
   "cell_type": "code",
   "execution_count": null,
   "id": "aefb21d1",
   "metadata": {},
   "outputs": [],
   "source": [
    "# === 时间问候 ===\n",
    "hour = datetime.now().hour\n",
    "if hour < 12:\n",
    "    greeting = \"Good morning\"\n",
    "elif hour < 18:\n",
    "    greeting = \"Good afternoon\"\n",
    "else:\n",
    "    greeting = \"Good evening\""
   ]
  },
  {
   "cell_type": "code",
   "execution_count": null,
   "id": "ad27faf8",
   "metadata": {},
   "outputs": [],
   "source": [
    "import phonenumbers\n",
    "phone=\"+17737457726\"\n",
    "num = phonenumbers.parse(phone, None)\n",
    "region = phonenumbers.region_code_for_number(num)\n",
    "print(region)"
   ]
  },
  {
   "cell_type": "code",
   "execution_count": null,
   "id": "00672421",
   "metadata": {},
   "outputs": [],
   "source": [
    "import numpy as np\n",
    "a=1\n",
    "b=2\n",
    "c=3\n",
    "for i in np.linspace(1,3,3):\n",
    "    a=a+1\n",
    "    b=b+2\n",
    "    c=c+3\n",
    "print(a,b,c)\n"
   ]
  },
  {
   "cell_type": "code",
   "execution_count": null,
   "id": "f0660900",
   "metadata": {},
   "outputs": [],
   "source": []
  }
 ],
 "metadata": {
  "kernelspec": {
   "display_name": "auto_tourist_management",
   "language": "python",
   "name": "python3"
  },
  "language_info": {
   "codemirror_mode": {
    "name": "ipython",
    "version": 3
   },
   "file_extension": ".py",
   "mimetype": "text/x-python",
   "name": "python",
   "nbconvert_exporter": "python",
   "pygments_lexer": "ipython3",
   "version": "3.13.2"
  }
 },
 "nbformat": 4,
 "nbformat_minor": 5
}
